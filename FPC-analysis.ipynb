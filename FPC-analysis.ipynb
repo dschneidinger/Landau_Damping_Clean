{
 "cells": [
  {
   "cell_type": "code",
   "execution_count": 1,
   "metadata": {},
   "outputs": [],
   "source": [
    "import sys\n",
    "sys.path.append('vysxd')\n",
    "import numpy as np\n",
    "import matplotlib.pyplot as plt\n",
    "import matplotlib.animation as manimation\n",
    "from FPC_define import *"
   ]
  },
  {
   "cell_type": "code",
   "execution_count": 2,
   "metadata": {},
   "outputs": [],
   "source": [
    "A, B = FPC('vth_0.055_amp_0.002/k_6')"
   ]
  },
  {
   "cell_type": "markdown",
   "metadata": {},
   "source": [
    "We are interested to see the energy transfer in velocity space, so we need to integrate over x\n",
    "\n",
    "Alternatively, just pick an x position that you want to look at."
   ]
  },
  {
   "cell_type": "code",
   "execution_count": 3,
   "metadata": {},
   "outputs": [
    {
     "data": {
      "text/plain": [
       "(128, 195)"
      ]
     },
     "execution_count": 3,
     "metadata": {},
     "output_type": "execute_result"
    }
   ],
   "source": [
    "A_int_wrt_x = np.trapz(A, axis = 1)\n",
    "B_int_wrt_x = np.trapz(B, axis = 1)\n",
    "\n",
    "# x_pos = 50\n",
    "# A_int_wrt_x = A[x_pos,:,:]\n",
    "# B_int_wrt_x = B[x_pos,:,:]\n",
    "\n",
    "\n",
    "np.shape(A_int_wrt_x)"
   ]
  },
  {
   "cell_type": "markdown",
   "metadata": {},
   "source": [
    "Now, integrate over a couple timesteps such that the dissipative energy transfer overpowers the oscillatory"
   ]
  },
  {
   "cell_type": "code",
   "execution_count": 4,
   "metadata": {},
   "outputs": [
    {
     "data": {
      "text/plain": [
       "<Figure size 640x480 with 0 Axes>"
      ]
     },
     "metadata": {},
     "output_type": "display_data"
    }
   ],
   "source": [
    "FFMpegWriter = manimation.writers['ffmpeg']\n",
    "metadata = dict(title='phase-space-animation', artist='Matplotlib',\n",
    "                comment='visualizing the phase space evolution of the distribution function') # Describe what the animation is\n",
    "writer = FFMpegWriter(fps=20, metadata=metadata) # you can adjust the fps here.\n",
    "\n",
    "# Initialize the movie\n",
    "fig = plt.figure()\n",
    "\n",
    "with writer.saving(fig, f\"figs_and_movies/FPC_movie_kld-0.3.mp4\", dpi=400):\n",
    "\n",
    "# By my calculation, t = 6 starts at approximately i =9 4\n",
    "    for i in range (23,195):\n",
    "\n",
    "        A_full_int = 1/(i-22)*np.trapz(A_int_wrt_x[:,22:i], axis = 1)\n",
    "        B_full_int = 1/(i-22)*np.trapz(B_int_wrt_x[:,22:i], axis = 1)\n",
    "        plt.plot(np.linspace(-0.5,0.5, len(B_full_int)),B_full_int,label = r'$\\frac{dW}{dt}(v)$')  \n",
    "        # plt.scatter(np.linspace(-0.3,0.3, len(A_full_int)),A_full_int+B_full_int, label = r'$\\frac{dW}{dt}(v)$ with v $\\cdot \\nabla$ term')\n",
    "        vphase = 0.199\n",
    "        plt.vlines([vphase],ymin=-9e-6,ymax=9e-6, label = r'$v_{\\phi} =$'+ str(vphase), colors = 'black')\n",
    "        plt.ylabel('integrated change in energy density')\n",
    "        plt.xlabel('v/c')\n",
    "        plt.xlim(-0.3,0.3)\n",
    "        plt.title(f'k$\\lambda_d$ = 0.33; Integrating from t = {round(22*8*0.032,0)} to {round(i*8*0.032,0)}')\n",
    "        plt.legend()\n",
    "        writer.grab_frame()\n",
    "        plt.cla()\n",
    "        plt.clf()\n"
   ]
  },
  {
   "cell_type": "markdown",
   "metadata": {},
   "source": [
    "### In order to verify that this method works, we should expect a flat line for a plasma with no damping"
   ]
  },
  {
   "cell_type": "code",
   "execution_count": 5,
   "metadata": {},
   "outputs": [],
   "source": [
    "A, B = FPC('vth_0.055_amp_0.002/k_3')\n",
    "\n",
    "A_int_wrt_x = np.trapz(A, axis = 1)\n",
    "B_int_wrt_x = np.trapz(B, axis = 1)"
   ]
  },
  {
   "cell_type": "code",
   "execution_count": 6,
   "metadata": {},
   "outputs": [
    {
     "data": {
      "text/plain": [
       "<Figure size 640x480 with 0 Axes>"
      ]
     },
     "metadata": {},
     "output_type": "display_data"
    }
   ],
   "source": [
    "FFMpegWriter = manimation.writers['ffmpeg']\n",
    "metadata = dict(title='phase-space-animation', artist='Matplotlib',\n",
    "                comment='visualizing the phase space evolution of the distribution function') # Describe what the animation is\n",
    "writer = FFMpegWriter(fps=20, metadata=metadata) # you can adjust the fps here.\n",
    "\n",
    "# Initialize the movie\n",
    "fig = plt.figure()\n",
    "\n",
    "with writer.saving(fig, f\"figs_and_movies/FPC_movie_kld-0.165.mp4\", dpi=400):\n",
    "\n",
    "# By my calculation, t = 6 starts at approximately i =9 4\n",
    "    for i in range (23,195):\n",
    "\n",
    "        A_full_int = 1/(i-22)*np.trapz(A_int_wrt_x[:,22:i], axis = 1)\n",
    "        B_full_int = 1/(i-22)*np.trapz(B_int_wrt_x[:,22:i], axis = 1)\n",
    "        plt.plot(np.linspace(-0.5,0.5, len(B_full_int)),B_full_int,label = r'$\\frac{dW}{dt}(v)$')  \n",
    "        # plt.scatter(np.linspace(-0.3,0.3, len(A_full_int)),A_full_int+B_full_int, label = r'$\\frac{dW}{dt}(v)$ with v $\\cdot \\nabla$ term')\n",
    "        vphase = 1.04313725/3\n",
    "        plt.vlines([vphase],ymin=-5e-5,ymax=5e-5, label = r'$v_{\\phi} =$'+ str(round(vphase,2)), colors = 'black')\n",
    "        plt.ylabel('integrated change in energy density')\n",
    "        plt.xlabel('v/c')\n",
    "        plt.xlim(-0.3,0.4)\n",
    "        plt.ylim(-5e-5,5e-5)\n",
    "        plt.title(f'k$\\lambda_d$ = 0.165; Integrating from t = {round(22*8*0.032,0)} to {round(i*8*0.032,0)}')\n",
    "        plt.legend()\n",
    "        writer.grab_frame()\n",
    "        plt.cla()\n",
    "        plt.clf()\n"
   ]
  },
  {
   "cell_type": "markdown",
   "metadata": {},
   "source": [
    "### Just for gits and shiggles, let's see what it looks like for a very heavily damped plasma"
   ]
  },
  {
   "cell_type": "code",
   "execution_count": 7,
   "metadata": {},
   "outputs": [],
   "source": [
    "A, B = FPC('vth_0.055_amp_0.002/k_9')\n",
    "\n",
    "A_int_wrt_x = np.trapz(A, axis = 1)\n",
    "B_int_wrt_x = np.trapz(B, axis = 1)"
   ]
  },
  {
   "cell_type": "code",
   "execution_count": 8,
   "metadata": {},
   "outputs": [
    {
     "data": {
      "text/plain": [
       "<Figure size 640x480 with 0 Axes>"
      ]
     },
     "metadata": {},
     "output_type": "display_data"
    }
   ],
   "source": [
    "FFMpegWriter = manimation.writers['ffmpeg']\n",
    "metadata = dict(title='phase-space-animation', artist='Matplotlib',\n",
    "                comment='visualizing the phase space evolution of the distribution function') # Describe what the animation is\n",
    "writer = FFMpegWriter(fps=20, metadata=metadata) # you can adjust the fps here.\n",
    "\n",
    "# Initialize the movie\n",
    "fig = plt.figure()\n",
    "\n",
    "with writer.saving(fig, \"figs_and_movies/FPC_movie_kld-0.495.mp4\", dpi=400):\n",
    "\n",
    "# By my calculation, t = 6 starts at approximately i =9 4\n",
    "    for i in range (23,195):\n",
    "\n",
    "        A_full_int = 1/(i-22)*np.trapz(A_int_wrt_x[:,22:i], axis = 1)\n",
    "        B_full_int = 1/(i-22)*np.trapz(B_int_wrt_x[:,22:i], axis = 1)\n",
    "        plt.plot(np.linspace(-0.5,0.5, len(B_full_int)),B_full_int,label = r'$\\frac{dW}{dt}(v)$')  \n",
    "        # plt.scatter(np.linspace(-0.3,0.3, len(A_full_int)),A_full_int+B_full_int, label = r'$\\frac{dW}{dt}(v)$ with v $\\cdot \\nabla$ term')\n",
    "        vphase = 1.40980392/9\n",
    "        plt.vlines([vphase],ymin=-1e-5,ymax=1e-5, label = r'$v_{\\phi} =$'+ str(round(vphase,2)), colors = 'black')\n",
    "        plt.ylabel('integrated change in energy density')\n",
    "        plt.xlabel('v/c')\n",
    "        plt.xlim(-0.3,0.4)\n",
    "        plt.ylim(-1e-5,1e-5)\n",
    "        plt.title(f'k$\\lambda_d$ = 0.165; Integrating from t = {round(22*8*0.032,0)} to {round(i*8*0.032,0)}')\n",
    "        plt.legend()\n",
    "        writer.grab_frame()\n",
    "        plt.cla()\n",
    "        plt.clf()\n"
   ]
  },
  {
   "cell_type": "code",
   "execution_count": null,
   "metadata": {},
   "outputs": [],
   "source": []
  }
 ],
 "metadata": {
  "kernelspec": {
   "display_name": "Python 3",
   "language": "python",
   "name": "python3"
  },
  "language_info": {
   "codemirror_mode": {
    "name": "ipython",
    "version": 3
   },
   "file_extension": ".py",
   "mimetype": "text/x-python",
   "name": "python",
   "nbconvert_exporter": "python",
   "pygments_lexer": "ipython3",
   "version": "3.10.12"
  }
 },
 "nbformat": 4,
 "nbformat_minor": 2
}
